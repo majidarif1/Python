{
 "cells": [
  {
   "cell_type": "code",
   "execution_count": 6,
   "metadata": {},
   "outputs": [
    {
     "name": "stdout",
     "output_type": "stream",
     "text": [
      "Restaturant name is Kfc\n",
      "Resaturant name is Abc\n",
      "Restaurant name is Kfc\n",
      "Cuisine type is Abc\n",
      "Restaurant is open\n",
      "Restaurant name is Mcdonald\n",
      "Cuisine type is Xyz\n",
      "Restaurant name is Chai Shai\n",
      "Cuisine type is Def\n"
     ]
    }
   ],
   "source": [
    "class Restaurant():\n",
    "    def __init__(self,restaurant_name, cuisine_type):\n",
    "        self.restaurant_name=restaurant_name\n",
    "        self.cuisine_type=cuisine_type\n",
    "        \n",
    "    \n",
    "    \n",
    "    def describe_restaurant(self):\n",
    "        print(\"Restaurant name is \" +self.restaurant_name.title() )\n",
    "        print(\"Cuisine type is \" +self.cuisine_type.title())\n",
    "        \n",
    "    def open_restaurant(self):\n",
    "        print(\"Restaurant is open\")\n",
    "        \n",
    "my_restaurant=Restaurant(\"kFC\",\"abc\")\n",
    "my_res1=Restaurant(\"McDonald\",\"xyz\")\n",
    "my_res2=Restaurant(\"Chai Shai\",\"def\")\n",
    "\n",
    "print(\"Restaturant name is \"+my_restaurant.restaurant_name.title())\n",
    "print(\"Resaturant name is \"+my_restaurant.cuisine_type.title())\n",
    "\n",
    "my_restaurant.describe_restaurant()\n",
    "my_restaurant.open_restaurant()\n",
    "my_res1.describe_restaurant()\n",
    "my_res2.describe_restaurant()\n",
    "\n",
    "\n",
    "\n",
    "\n",
    "        "
   ]
  },
  {
   "cell_type": "code",
   "execution_count": null,
   "metadata": {
    "collapsed": true
   },
   "outputs": [],
   "source": []
  },
  {
   "cell_type": "code",
   "execution_count": 13,
   "metadata": {},
   "outputs": [
    {
     "name": "stdout",
     "output_type": "stream",
     "text": [
      "First name is Majid\n",
      "Last name is Arif\n",
      "Age of user is 21\n",
      "Hello! Majid\n",
      "First name is Ali\n",
      "Last name is Ahmed\n",
      "Age of user is 23\n",
      "Hello! Ali\n",
      "First name is Farrukh\n",
      "Last name is Ahmed\n",
      "Age of user is 50\n",
      "Hello! Farrukh\n"
     ]
    }
   ],
   "source": [
    "class User():\n",
    "    def __init__(self,f_name,l_name,age):\n",
    "        self.f_name=f_name\n",
    "        self.l_name=l_name\n",
    "        self.age=age\n",
    "    \n",
    "    def describe_user(self):\n",
    "        print(\"First name is \"+self.f_name.title())\n",
    "        print(\"Last name is \"+self.l_name.title())\n",
    "        print(\"Age of user is \"+str(self.age))\n",
    "        \n",
    "    def greet_user(self):\n",
    "        print(\"Hello! \"+self.f_name.title())\n",
    "        \n",
    "users=User(\"majid\",\"arif\",21)\n",
    "user1=User(\"ali\",\"ahmed\",23)\n",
    "user2=User(\"farrukh\",\"ahmed\",50)\n",
    "\n",
    "users.describe_user()\n",
    "users.greet_user()\n",
    "user1.describe_user()\n",
    "user1.greet_user()\n",
    "user2.describe_user()\n",
    "user2.greet_user()\n",
    "\n",
    "        "
   ]
  },
  {
   "cell_type": "code",
   "execution_count": null,
   "metadata": {
    "collapsed": true
   },
   "outputs": [],
   "source": []
  }
 ],
 "metadata": {
  "kernelspec": {
   "display_name": "Python 3",
   "language": "python",
   "name": "python3"
  },
  "language_info": {
   "codemirror_mode": {
    "name": "ipython",
    "version": 3
   },
   "file_extension": ".py",
   "mimetype": "text/x-python",
   "name": "python",
   "nbconvert_exporter": "python",
   "pygments_lexer": "ipython3",
   "version": "3.6.3"
  }
 },
 "nbformat": 4,
 "nbformat_minor": 2
}
