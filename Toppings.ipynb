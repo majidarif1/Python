{
 "cells": [
  {
   "cell_type": "code",
   "execution_count": 3,
   "metadata": {},
   "outputs": [
    {
     "name": "stdout",
     "output_type": "stream",
     "text": [
      "Add pizza toppings \n",
      "Write quit to exit hello\n",
      "hello\n",
      "Add pizza toppings \n",
      "Write quit to exit quit\n"
     ]
    }
   ],
   "source": [
    "prompt=\"Add pizza toppings \"\n",
    "prompt+= \"\\nWrite quit to exit \"\n",
    "\n",
    "message=\"\"\n",
    "while message != \"quit\":\n",
    "    message= input(prompt)\n",
    "    \n",
    "    if message==\"quit\":\n",
    "        break\n",
    "    else:\n",
    "        print(message)"
   ]
  },
  {
   "cell_type": "code",
   "execution_count": null,
   "metadata": {
    "collapsed": true
   },
   "outputs": [],
   "source": []
  },
  {
   "cell_type": "code",
   "execution_count": null,
   "metadata": {
    "collapsed": true
   },
   "outputs": [],
   "source": []
  }
 ],
 "metadata": {
  "kernelspec": {
   "display_name": "Python 3",
   "language": "python",
   "name": "python3"
  },
  "language_info": {
   "codemirror_mode": {
    "name": "ipython",
    "version": 3
   },
   "file_extension": ".py",
   "mimetype": "text/x-python",
   "name": "python",
   "nbconvert_exporter": "python",
   "pygments_lexer": "ipython3",
   "version": "3.6.3"
  }
 },
 "nbformat": 4,
 "nbformat_minor": 2
}
