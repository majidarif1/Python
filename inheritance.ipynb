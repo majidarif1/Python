{
 "cells": [
  {
   "cell_type": "code",
   "execution_count": 1,
   "metadata": {},
   "outputs": [
    {
     "name": "stdout",
     "output_type": "stream",
     "text": [
      "2016 Tesla Model S\n"
     ]
    }
   ],
   "source": [
    "class Car():\n",
    "    \"\"\"A simple attempt to represent a car.\"\"\"\n",
    "    def __init__(self, make, model, year):\n",
    "        self.make = make\n",
    "        self.model = model\n",
    "        self.year = year\n",
    "        self.odometer_reading = 0\n",
    "\n",
    "    def get_descriptive_name(self):\n",
    "        long_name = str(self.year) + ' ' + self.make + ' ' + self.model\n",
    "        return long_name.title()\n",
    "\n",
    "    def read_odometer(self):\n",
    "        print(\"This car has \" + str(self.odometer_reading) + \" miles on it.\")\n",
    "\n",
    "    def update_odometer(self, mileage):\n",
    "        if mileage >= self.odometer_reading:\n",
    "            self.odometer_reading = mileage\n",
    "        else:\n",
    "            print(\"You can't roll back an odometer!\")\n",
    "\n",
    "    def increment_odometer(self, miles):\n",
    "        self.odometer_reading += miles\n",
    "class ElectricCar(Car):\n",
    "    \"\"\"Represent aspects of a car, specific to electric vehicles.\"\"\"\n",
    "    def __init__(self, make, model, year):\n",
    "        \"\"\"Initialize attributes of the parent class.\"\"\"\n",
    "        super().__init__(make, model, year)\n",
    "\n",
    "my_tesla = ElectricCar('tesla', 'model s', 2016)\n",
    "print(my_tesla.get_descriptive_name())\n"
   ]
  },
  {
   "cell_type": "code",
   "execution_count": 49,
   "metadata": {},
   "outputs": [
    {
     "name": "stdout",
     "output_type": "stream",
     "text": [
      "Restaurant name is Kababjees\n",
      "Cuisine type is bbq\n",
      "The served number is 20\n",
      "The no of customer serves are 22\n"
     ]
    }
   ],
   "source": [
    "class Restaurant():\n",
    "    def __init__(self,restaurant_name,cuisine_type):\n",
    "        self.restaurant_name=restaurant_name\n",
    "        self.cuisine_type=cuisine_type\n",
    "        self.number_served=0\n",
    "    def describe_restaurant(self):\n",
    "        print(\"Restaurant name is \" +self.restaurant_name.title())\n",
    "        print(\"Cuisine type is \" +self.cuisine_type)\n",
    "        \n",
    "    def set_number_served(self):\n",
    "        print(\"The served number is \" +str(self.number_served))\n",
    "        \n",
    "    def increment_number_served(self):\n",
    "        increment=self.number_served+2\n",
    "        #return increment\n",
    "        print(\"The no of customer serves are \"+str(increment))\n",
    "        \n",
    "res=Restaurant(\"kababjees\",\"bbq\")\n",
    "restaurant=Restaurant(\"kfc\",\"chicken\")\n",
    "\n",
    "\n",
    "restaurant.number_served=20\n",
    "res.describe_restaurant()\n",
    "restaurant.set_number_served()\n",
    "restaurant.increment_number_served()\n",
    "\n"
   ]
  },
  {
   "cell_type": "code",
   "execution_count": 52,
   "metadata": {},
   "outputs": [
    {
     "name": "stdout",
     "output_type": "stream",
     "text": [
      "Restaurant name is Aa\n",
      "Cuisine type is bb\n",
      "mango\n",
      "vanilla\n",
      "chocolate\n"
     ]
    }
   ],
   "source": [
    "class Icecream(Restaurant):\n",
    "    def __init__(self,restaurant_name,cuisine_type):\n",
    "        super().__init__(restaurant_name,cuisine_type)\n",
    "        \n",
    "        \n",
    "        self.flavours=[\"mango\",\"vanilla\",\"chocolate\"]\n",
    "    def display_flavours(self):\n",
    "        for flavour in self.flavours:\n",
    "            print(flavour)\n",
    "    \n",
    "ice=Icecream(\"aa\",\"bb\")\n",
    "ice.describe_restaurant()\n",
    "ice.display_flavours()\n",
    "        \n",
    "        "
   ]
  },
  {
   "cell_type": "code",
   "execution_count": null,
   "metadata": {
    "collapsed": true
   },
   "outputs": [],
   "source": []
  }
 ],
 "metadata": {
  "kernelspec": {
   "display_name": "Python 3",
   "language": "python",
   "name": "python3"
  },
  "language_info": {
   "codemirror_mode": {
    "name": "ipython",
    "version": 3
   },
   "file_extension": ".py",
   "mimetype": "text/x-python",
   "name": "python",
   "nbconvert_exporter": "python",
   "pygments_lexer": "ipython3",
   "version": "3.6.3"
  }
 },
 "nbformat": 4,
 "nbformat_minor": 2
}
