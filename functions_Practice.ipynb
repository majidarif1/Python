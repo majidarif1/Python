{
 "cells": [
  {
   "cell_type": "code",
   "execution_count": 2,
   "metadata": {},
   "outputs": [
    {
     "name": "stdout",
     "output_type": "stream",
     "text": [
      "{'first': 'jimi', 'last': 'hendrix', 'age': 27}\n"
     ]
    }
   ],
   "source": [
    "def build_person(first_name, last_name, age=''):\n",
    " \"\"\"Return a dictionary of information about a person.\"\"\"\n",
    " person = {'first': first_name, 'last': last_name}\n",
    " if age:\n",
    "     person['age'] = age\n",
    "     return person\n",
    "musician = build_person('jimi', 'hendrix', age=27)\n",
    "print(musician)"
   ]
  },
  {
   "cell_type": "code",
   "execution_count": 11,
   "metadata": {},
   "outputs": [
    {
     "name": "stdout",
     "output_type": "stream",
     "text": [
      "{'Artist Name': 'Salman', 'Album Title': 'Sallu'}\n",
      "{'Artist Name': 'Ahmed', 'Album Title': 'Ali'}\n",
      "{'Artist Name': 'Huzaifa', 'Album Title': 'Kami'}\n",
      "{'Artist Name': 'Huzaifa', 'Album Title': 'Kami', 'tracks': 23}\n"
     ]
    }
   ],
   "source": [
    "def make_album(artist_name, album_title, number_tracks=\"\"):\n",
    "    music_album={\"Artist Name\": artist_name, \"Album Title\": album_title}\n",
    "    if number_tracks:\n",
    "        music_album[\"tracks\"]=number_tracks\n",
    "    return music_album\n",
    "music=make_album(\"Salman\",\"Sallu\")\n",
    "music1=make_album(\"Ahmed\",\"Ali\")\n",
    "music2=make_album(\"Huzaifa\",\"Kami\")\n",
    "music3=make_album(\"Huzaifa\",\"Kami\",number_tracks=23)\n",
    "print(music)\n",
    "print(music1)\n",
    "print(music2)\n",
    "print(music3)\n",
    "\n"
   ]
  },
  {
   "cell_type": "code",
   "execution_count": 13,
   "metadata": {},
   "outputs": [
    {
     "name": "stdout",
     "output_type": "stream",
     "text": [
      "Hello Majid!\n",
      "Hello Kahlid!\n",
      "Hello Huziafa!\n"
     ]
    }
   ],
   "source": [
    "def users(name):\n",
    "    for names in name:\n",
    "        msg=\"Hello \" + names.title() + \"!\"\n",
    "        print(msg)\n",
    "username=[\"majid\",\"kahlid\",\"huziafa\"]\n",
    "users(username)"
   ]
  },
  {
   "cell_type": "code",
   "execution_count": 15,
   "metadata": {},
   "outputs": [
    {
     "name": "stdout",
     "output_type": "stream",
     "text": [
      "('pepperoni',)\n",
      "('mushrooms', 'green peppers', 'extra cheese')\n"
     ]
    }
   ],
   "source": [
    "def make_pizza(*toppings):\n",
    "    \"\"\"Print the list of toppings that have been requested.\"\"\"\n",
    "    print(toppings)\n",
    "\n",
    "make_pizza('pepperoni')\n",
    "make_pizza('mushrooms', 'green peppers', 'extra cheese')\n"
   ]
  },
  {
   "cell_type": "code",
   "execution_count": 19,
   "metadata": {},
   "outputs": [
    {
     "name": "stdout",
     "output_type": "stream",
     "text": [
      "{'first_name': 'albert', 'last_name': 'einstein', 'location': 'princeton', 'field': 'physics'}\n"
     ]
    }
   ],
   "source": [
    "def build_profile(first, last, **user_info):\n",
    "    \"\"\"Build a dictionary containing everything we know about a user.\"\"\"\n",
    "    profile = {}\n",
    "    profile['first_name'] = first\n",
    "    profile['last_name'] = last\n",
    "    for key, value in user_info.items():\n",
    "        profile[key] = value\n",
    "    return profile\n",
    "user_profile = build_profile('albert', 'einstein',location='princeton',field='physics')\n",
    "print(user_profile)\n"
   ]
  },
  {
   "cell_type": "code",
   "execution_count": null,
   "metadata": {
    "collapsed": true
   },
   "outputs": [],
   "source": []
  },
  {
   "cell_type": "code",
   "execution_count": null,
   "metadata": {
    "collapsed": true
   },
   "outputs": [],
   "source": []
  }
 ],
 "metadata": {
  "kernelspec": {
   "display_name": "Python 3",
   "language": "python",
   "name": "python3"
  },
  "language_info": {
   "codemirror_mode": {
    "name": "ipython",
    "version": 3
   },
   "file_extension": ".py",
   "mimetype": "text/x-python",
   "name": "python",
   "nbconvert_exporter": "python",
   "pygments_lexer": "ipython3",
   "version": "3.6.3"
  }
 },
 "nbformat": 4,
 "nbformat_minor": 2
}
